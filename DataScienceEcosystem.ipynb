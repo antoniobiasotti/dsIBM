{
  "metadata": {
    "kernelspec": {
      "name": "python",
      "display_name": "Python (Pyodide)",
      "language": "python"
    },
    "language_info": {
      "codemirror_mode": {
        "name": "python",
        "version": 3
      },
      "file_extension": ".py",
      "mimetype": "text/x-python",
      "name": "python",
      "nbconvert_exporter": "python",
      "pygments_lexer": "ipython3",
      "version": "3.8"
    }
  },
  "nbformat_minor": 5,
  "nbformat": 4,
  "cells": [
    {
      "id": "ebeb66b9-6c97-4ac4-983b-d2a3f74f7436",
      "cell_type": "markdown",
      "source": "# DataScienceEcosystem",
      "metadata": {}
    },
    {
      "id": "f444d447-0879-44dd-9ddc-9bf6087975e7",
      "cell_type": "markdown",
      "source": "In this notebook, Data Science Tools and Ecosystem are summarized.",
      "metadata": {}
    },
    {
      "id": "57c5a05e-57fd-4b3a-ae37-5e1d3c1d8a9d",
      "cell_type": "markdown",
      "source": "**Objectives:**\n- List popular languages for Data Science\n- List popular librarires for Data Science\n- List popular Data Science Tools\n- Resolve some basic arithmetic expressions in Python",
      "metadata": {}
    },
    {
      "id": "5e542c8a-8923-4349-94ee-27e8450f8102",
      "cell_type": "markdown",
      "source": "Some of the popular languages that Data Scientists use are:\n\n1. Python\n2. R\n3. SQL\n4. Julia\n---\nSome of the commonly used libraries used by Data Scientists include:\n\n1. Pandas (Python)\n2. ggplot2 (R)\n3. Plotly\n",
      "metadata": {}
    },
    {
      "id": "0d1391f6-029b-47c9-863b-9869770349c6",
      "cell_type": "markdown",
      "source": "| Data Science Tools   |\n|------------|\n| Apache Spark |\n| Git |\n| Hadoop |\n",
      "metadata": {}
    },
    {
      "id": "e033c773-0099-4c37-bc70-36039b7d7a28",
      "cell_type": "markdown",
      "source": "### Below are a few examples of evaluating arithmetic expressions in Python",
      "metadata": {}
    },
    {
      "id": "49a11bf2-aaeb-475f-a5d7-1b68c615cc9f",
      "cell_type": "code",
      "source": "# This a simple arithmetic expression to mutiply then add integers\n(3 * 4) + 5",
      "metadata": {
        "trusted": true
      },
      "outputs": [
        {
          "execution_count": 1,
          "output_type": "execute_result",
          "data": {
            "text/plain": "17"
          },
          "metadata": {}
        }
      ],
      "execution_count": 1
    },
    {
      "id": "b9a2050d-e524-468c-9178-5130a0ae094c",
      "cell_type": "code",
      "source": "# This will convert 200 minutes to hours by diving by 60\n200 // 60",
      "metadata": {
        "trusted": true
      },
      "outputs": [
        {
          "execution_count": 4,
          "output_type": "execute_result",
          "data": {
            "text/plain": "3"
          },
          "metadata": {}
        }
      ],
      "execution_count": 4
    },
    {
      "id": "44f49ded-d09b-4f3f-a4a1-132e8b5e015e",
      "cell_type": "markdown",
      "source": "## Author\nAntônio Biasotti",
      "metadata": {}
    }
  ]
}