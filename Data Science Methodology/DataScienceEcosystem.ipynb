{
  "cells": [
    {
      "cell_type": "markdown",
      "id": "ebeb66b9-6c97-4ac4-983b-d2a3f74f7436",
      "metadata": {},
      "source": [
        "# Data Science Tools and Ecossytem"
      ]
    },
    {
      "cell_type": "markdown",
      "id": "f444d447-0879-44dd-9ddc-9bf6087975e7",
      "metadata": {},
      "source": [
        "In this notebook, Data Science Tools and Ecosystem are summarized."
      ]
    },
    {
      "cell_type": "markdown",
      "id": "3d651265",
      "metadata": {},
      "source": [
        "**Objectives:**\n",
        "- List popular languages for Data Science\n",
        "- List commonly used libraries used by Data Scientists\n",
        "- Display in a table three development environment open source tools used in data science\n",
        "- Show a few examples of evaluating arithmetic expressions in Python"
      ]
    },
    {
      "cell_type": "markdown",
      "id": "5e542c8a-8923-4349-94ee-27e8450f8102",
      "metadata": {},
      "source": [
        "Some of the popular languages that Data Scientists use are:\n",
        "\n",
        "1. Python\n",
        "2. R\n",
        "3. SQL\n",
        "4. Julia\n",
        "5. Scala\n",
        "\n",
        "Some of the commonly used libraries used by Data Scientists include:\n",
        "1. Pandas\n",
        "2. Sci-kit learn\n",
        "3. Seaborn\n",
        "4. ggplot\n",
        "5. GGally\n",
        "6. Matplot lib\n",
        "7. Tensor Flow\n",
        "8. PyTorch"
      ]
    },
    {
      "cell_type": "markdown",
      "id": "4d3e53b6",
      "metadata": {},
      "source": [
        "| Data Science Tools       |\n",
        "|---------------------------|\n",
        "| Jupyter Notebook          |\n",
        "| RStudio                   |\n",
        "| Apache Zeppelin           |\n"
      ]
    },
    {
      "cell_type": "markdown",
      "id": "99eb4569",
      "metadata": {},
      "source": [
        "### Below are a few examples of evaluating arithmetic expressions in Python"
      ]
    },
    {
      "cell_type": "code",
      "execution_count": 1,
      "id": "c1eb212b",
      "metadata": {},
      "outputs": [
        {
          "data": {
            "text/plain": [
              "17"
            ]
          },
          "execution_count": 1,
          "metadata": {},
          "output_type": "execute_result"
        }
      ],
      "source": [
        "# This a simple arithmetic expression to mutiply then add integers\n",
        "(3*4)+5"
      ]
    },
    {
      "cell_type": "code",
      "execution_count": 5,
      "id": "b07d2d34",
      "metadata": {},
      "outputs": [
        {
          "name": "stdout",
          "output_type": "stream",
          "text": [
            "200 minutes equals approximately to 3 hours and 20 minutes.\n"
          ]
        }
      ],
      "source": [
        "#  This will convert 200 minutes to hours by diving by 60\n",
        "print(f\"200 minutes equals approximately to {200//60} hours and {200%60} minutes.\")"
      ]
    },
    {
      "cell_type": "markdown",
      "id": "adf51c44",
      "metadata": {},
      "source": [
        "## Author\n",
        "Antônio Biasotti "
      ]
    }
  ],
  "metadata": {
    "kernelspec": {
      "display_name": "IBMDataScience",
      "language": "python",
      "name": "python3"
    },
    "language_info": {
      "codemirror_mode": {
        "name": "ipython",
        "version": 3
      },
      "file_extension": ".py",
      "mimetype": "text/x-python",
      "name": "python",
      "nbconvert_exporter": "python",
      "pygments_lexer": "ipython3",
      "version": "3.13.1"
    }
  },
  "nbformat": 4,
  "nbformat_minor": 5
}
