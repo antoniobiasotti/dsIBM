{
 "cells": [
  {
   "cell_type": "code",
   "execution_count": null,
   "metadata": {},
   "outputs": [
    {
     "name": "stdout",
     "output_type": "stream",
     "text": [
      "{'bitcoin': {'usd': 97626}}\n"
     ]
    }
   ],
   "source": [
    "from pycoingecko import CoinGeckoAPI\n",
    "cg = CoinGeckoAPI()\n",
    "bitcoin_data = cg.get_coin_market_chart_by_id(id = 'bitcoin', vs_currency = 'usd', days=30)\n"
   ]
  },
  {
   "cell_type": "code",
   "execution_count": 6,
   "metadata": {},
   "outputs": [
    {
     "data": {
      "text/html": [
       "<div>\n",
       "<style scoped>\n",
       "    .dataframe tbody tr th:only-of-type {\n",
       "        vertical-align: middle;\n",
       "    }\n",
       "\n",
       "    .dataframe tbody tr th {\n",
       "        vertical-align: top;\n",
       "    }\n",
       "\n",
       "    .dataframe thead th {\n",
       "        text-align: right;\n",
       "    }\n",
       "</style>\n",
       "<table border=\"1\" class=\"dataframe\">\n",
       "  <thead>\n",
       "    <tr style=\"text-align: right;\">\n",
       "      <th></th>\n",
       "      <th>TimeStamp</th>\n",
       "      <th>Price</th>\n",
       "      <th>Date</th>\n",
       "    </tr>\n",
       "  </thead>\n",
       "  <tbody>\n",
       "    <tr>\n",
       "      <th>0</th>\n",
       "      <td>1736337832470</td>\n",
       "      <td>95094.073981</td>\n",
       "      <td>2025-01-08 12:03:52.470</td>\n",
       "    </tr>\n",
       "    <tr>\n",
       "      <th>1</th>\n",
       "      <td>1736341433796</td>\n",
       "      <td>94910.814440</td>\n",
       "      <td>2025-01-08 13:03:53.796</td>\n",
       "    </tr>\n",
       "    <tr>\n",
       "      <th>2</th>\n",
       "      <td>1736344857145</td>\n",
       "      <td>95235.623264</td>\n",
       "      <td>2025-01-08 14:00:57.145</td>\n",
       "    </tr>\n",
       "    <tr>\n",
       "      <th>3</th>\n",
       "      <td>1736348545578</td>\n",
       "      <td>95326.946924</td>\n",
       "      <td>2025-01-08 15:02:25.578</td>\n",
       "    </tr>\n",
       "    <tr>\n",
       "      <th>4</th>\n",
       "      <td>1736352225947</td>\n",
       "      <td>95400.854843</td>\n",
       "      <td>2025-01-08 16:03:45.947</td>\n",
       "    </tr>\n",
       "    <tr>\n",
       "      <th>...</th>\n",
       "      <td>...</td>\n",
       "      <td>...</td>\n",
       "      <td>...</td>\n",
       "    </tr>\n",
       "    <tr>\n",
       "      <th>714</th>\n",
       "      <td>1738915431391</td>\n",
       "      <td>96765.558243</td>\n",
       "      <td>2025-02-07 08:03:51.391</td>\n",
       "    </tr>\n",
       "    <tr>\n",
       "      <th>715</th>\n",
       "      <td>1738919049234</td>\n",
       "      <td>97129.213168</td>\n",
       "      <td>2025-02-07 09:04:09.234</td>\n",
       "    </tr>\n",
       "    <tr>\n",
       "      <th>716</th>\n",
       "      <td>1738922630207</td>\n",
       "      <td>97337.030990</td>\n",
       "      <td>2025-02-07 10:03:50.207</td>\n",
       "    </tr>\n",
       "    <tr>\n",
       "      <th>717</th>\n",
       "      <td>1738926214511</td>\n",
       "      <td>97316.416516</td>\n",
       "      <td>2025-02-07 11:03:34.511</td>\n",
       "    </tr>\n",
       "    <tr>\n",
       "      <th>718</th>\n",
       "      <td>1738928314000</td>\n",
       "      <td>97686.129048</td>\n",
       "      <td>2025-02-07 11:38:34.000</td>\n",
       "    </tr>\n",
       "  </tbody>\n",
       "</table>\n",
       "<p>719 rows × 3 columns</p>\n",
       "</div>"
      ],
      "text/plain": [
       "         TimeStamp         Price                    Date\n",
       "0    1736337832470  95094.073981 2025-01-08 12:03:52.470\n",
       "1    1736341433796  94910.814440 2025-01-08 13:03:53.796\n",
       "2    1736344857145  95235.623264 2025-01-08 14:00:57.145\n",
       "3    1736348545578  95326.946924 2025-01-08 15:02:25.578\n",
       "4    1736352225947  95400.854843 2025-01-08 16:03:45.947\n",
       "..             ...           ...                     ...\n",
       "714  1738915431391  96765.558243 2025-02-07 08:03:51.391\n",
       "715  1738919049234  97129.213168 2025-02-07 09:04:09.234\n",
       "716  1738922630207  97337.030990 2025-02-07 10:03:50.207\n",
       "717  1738926214511  97316.416516 2025-02-07 11:03:34.511\n",
       "718  1738928314000  97686.129048 2025-02-07 11:38:34.000\n",
       "\n",
       "[719 rows x 3 columns]"
      ]
     },
     "execution_count": 6,
     "metadata": {},
     "output_type": "execute_result"
    }
   ],
   "source": [
    "import pandas as pd\n",
    "data = pd.DataFrame(bitcoin_data['prices'], columns=['TimeStamp', 'Price'])\n",
    "data['Date'] = pd.to_datetime(data['TimeStamp'], unit='ms')\n",
    "data"
   ]
  },
  {
   "cell_type": "code",
   "execution_count": 7,
   "metadata": {},
   "outputs": [],
   "source": [
    "candlestick_data = data.groupby(data.Date.dt.date).agg({'Price':['min','max','first','last']})"
   ]
  },
  {
   "cell_type": "code",
   "execution_count": 8,
   "metadata": {},
   "outputs": [
    {
     "data": {
      "text/plain": [
       "'./bitcoin_candlestick_graph.html'"
      ]
     },
     "execution_count": 8,
     "metadata": {},
     "output_type": "execute_result"
    }
   ],
   "source": [
    "import plotly.graph_objects as go\n",
    "\n",
    "fig = go.Figure(data=[\n",
    "    go.Candlestick(\n",
    "        x=candlestick_data.index,\n",
    "        open=candlestick_data['Price']['first'],\n",
    "        high=candlestick_data['Price']['max'],\n",
    "        low=candlestick_data['Price']['min'],\n",
    "        close=candlestick_data['Price']['last']\n",
    "    )\n",
    "])\n",
    "\n",
    "fig.update_layout(\n",
    "    xaxis_rangeslider_visible=False,\n",
    "    xaxis_title='Date',\n",
    "    yaxis_title='Price (USD $)',\n",
    "    title='Bitcoin Candlestick Chart Over Past 30 Days'\n",
    ")\n",
    "\n",
    "# Salvar gráfico em HTML\n",
    "import plotly.offline as pyo\n",
    "pyo.plot(fig, filename='./bitcoin_candlestick_graph.html', auto_open=False)\n"
   ]
  },
  {
   "cell_type": "code",
   "execution_count": null,
   "metadata": {},
   "outputs": [],
   "source": [
    "preco_btc = cg.get_price(ids='bitcoin', vs_currencies='usd')\n",
    "print(preco_btc)"
   ]
  }
 ],
 "metadata": {
  "kernelspec": {
   "display_name": "IBMDataScience",
   "language": "python",
   "name": "ibmdatascience"
  },
  "language_info": {
   "codemirror_mode": {
    "name": "ipython",
    "version": 3
   },
   "file_extension": ".py",
   "mimetype": "text/x-python",
   "name": "python",
   "nbconvert_exporter": "python",
   "pygments_lexer": "ipython3",
   "version": "3.13.1"
  }
 },
 "nbformat": 4,
 "nbformat_minor": 2
}
